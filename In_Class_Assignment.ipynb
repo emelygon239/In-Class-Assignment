{
  "nbformat": 4,
  "nbformat_minor": 0,
  "metadata": {
    "colab": {
      "provenance": [],
      "authorship_tag": "ABX9TyMlBJhEGuTnNWdx+M7MbHqB",
      "include_colab_link": true
    },
    "kernelspec": {
      "name": "python3",
      "display_name": "Python 3"
    },
    "language_info": {
      "name": "python"
    }
  },
  "cells": [
    {
      "cell_type": "markdown",
      "metadata": {
        "id": "view-in-github",
        "colab_type": "text"
      },
      "source": [
        "<a href=\"https://colab.research.google.com/github/emelygon239/In-Class-Assignment/blob/main/In_Class_Assignment.ipynb\" target=\"_parent\"><img src=\"https://colab.research.google.com/assets/colab-badge.svg\" alt=\"Open In Colab\"/></a>"
      ]
    },
    {
      "cell_type": "code",
      "execution_count": null,
      "metadata": {
        "colab": {
          "base_uri": "https://localhost:8080/"
        },
        "id": "QIVxcmUYydx6",
        "outputId": "00ac0014-bd9c-410c-bd72-37eab251e914"
      },
      "outputs": [
        {
          "output_type": "stream",
          "name": "stdout",
          "text": [
            "244.92000000000002\n"
          ]
        }
      ],
      "source": [
        "r=3\n",
        "pi=3.14\n",
        "h=10\n",
        "surfacearea= 2*pi*r**2+2*pi*r*h\n",
        "print(surfacearea)"
      ]
    },
    {
      "cell_type": "markdown",
      "source": [
        "the variable name has to be singular so it would not have an error"
      ],
      "metadata": {
        "id": "QuT6WE1Czpdf"
      }
    },
    {
      "cell_type": "markdown",
      "source": [
        "inputs such as two player 1 and player 2\n",
        "\n",
        "rock wins scissors\n",
        "scissors wins paper\n",
        "paper wins rocks"
      ],
      "metadata": {
        "id": "9qgj2pnPIJMC"
      }
    },
    {
      "cell_type": "code",
      "source": [
        "# Input\n",
        "\n",
        "p1= input('Choose rock, scissors, paper')\n",
        "p2= input('Choose rock, scissors, paper')\n",
        "\n",
        "\n",
        "#Processing must use and or\n",
        "\n",
        "if p1==p2:\n",
        "  print('No wins')\n",
        "\n",
        "elif (p1==\"rock\" and p2==\"scissors\") or (p1==\"scissors\" and p2==\"paper\") or (p1==\"paper\" and p2==\"rock\"):\n",
        "  print('p1 wins')\n",
        "\n",
        "else:\n",
        "  print(\"p2 wins\")\n",
        "\n",
        "\n",
        "\n",
        "\n",
        "\n",
        "\n",
        "\n",
        "\n",
        "\n"
      ],
      "metadata": {
        "colab": {
          "base_uri": "https://localhost:8080/"
        },
        "id": "l1cFX_yUIHCR",
        "outputId": "1f73697e-b7db-40fb-abe1-35fa2d2a5485"
      },
      "execution_count": null,
      "outputs": [
        {
          "output_type": "stream",
          "name": "stdout",
          "text": [
            "Choose rock, scissors, paperrock\n",
            "Choose rock, scissors, paperpaper\n",
            "p2 wins\n"
          ]
        }
      ]
    },
    {
      "cell_type": "code",
      "source": [
        "n1=float(input('enter number'))\n",
        "n2=float(input('enter number'))\n",
        "symbol= input('choose symbol(+,-,/,**)')\n",
        "\n",
        "if symbol=='+':\n",
        "  print(n1+n2)\n",
        "\n",
        "elif (symbol=='-'):\n",
        "  print(n1-n2)\n",
        "\n",
        "elif (symbol=='/'):\n",
        "  print(n1/n2)\n",
        "\n",
        "elif (symbol=='*'):\n",
        "  print(n1*n2)\n",
        "\n",
        "elif (symbol=='**'):\n",
        "  print(n1**n2)\n"
      ],
      "metadata": {
        "id": "sYaJgRvJCLO5",
        "colab": {
          "base_uri": "https://localhost:8080/"
        },
        "outputId": "08f2bd41-7a99-42cd-c960-eee6864beaa6"
      },
      "execution_count": null,
      "outputs": [
        {
          "output_type": "stream",
          "name": "stdout",
          "text": [
            "enter number5\n",
            "enter number5\n",
            "choose symbol(+,-,/,**)+\n",
            "10.0\n"
          ]
        }
      ]
    },
    {
      "cell_type": "code",
      "source": [
        "c= input('Do you want to play a game?')\n",
        "\n",
        "while c=='yes':\n",
        "  p1= input('choose r, p, s')\n",
        "  p2 = input('choose r, p, s')\n",
        "if p1 == p2:\n",
        "  print ('Draw')\n",
        "\n",
        "elif (p1 == 'r'and p2 == 's') or (p1== 's' and p2 == 'p') or (p1 == 'p' and p2 == 'r'):\n",
        "  print( 'p1 wins')\n",
        "\n",
        "else:\n",
        "  print ('p2 wins')\n",
        "\n"
      ],
      "metadata": {
        "colab": {
          "base_uri": "https://localhost:8080/"
        },
        "id": "TdHjF5lzHp6G",
        "outputId": "d8ebfb80-eebc-410c-ea16-397a1a6ad405"
      },
      "execution_count": null,
      "outputs": [
        {
          "name": "stdout",
          "output_type": "stream",
          "text": [
            "Do you want to play a game?yes\n",
            "choose r, p, sr\n",
            "choose r, p, ss\n",
            "choose r, p, sno\n"
          ]
        }
      ]
    },
    {
      "cell_type": "code",
      "source": [
        "flat_rate = 5\n",
        "for t in range (1,9):\n",
        "  charge = flat_rate + 2.5 * t\n",
        "  if charge < 10:\n",
        "    charge = 10\n",
        "  elif charge > 20:\n",
        "    charge = 20\n",
        "  print(t, charge)"
      ],
      "metadata": {
        "colab": {
          "base_uri": "https://localhost:8080/"
        },
        "id": "zW9nwW68I-YG",
        "outputId": "6f423d94-df89-4b84-ae28-630cc43a71a7"
      },
      "execution_count": null,
      "outputs": [
        {
          "output_type": "stream",
          "name": "stdout",
          "text": [
            "1 10\n",
            "2 10.0\n",
            "3 12.5\n",
            "4 15.0\n",
            "5 17.5\n",
            "6 20.0\n",
            "7 20\n",
            "8 20\n"
          ]
        }
      ]
    },
    {
      "cell_type": "markdown",
      "source": [
        "A parking garage charges 5plus2.50 for each hour parked. The minimum fee is 10andthemaximum feeis20.\n",
        "Write a program that generates a table with hours parked and the corresponding fee."
      ],
      "metadata": {
        "id": "6uzeOuQRJczs"
      }
    },
    {
      "cell_type": "markdown",
      "source": [
        "Movie theater manager is decidiing how much to spend on advertising for an upcoming movie. Each ticket is 10 dollars. Without advertising, 20 people are forecasted to attend. Additional people attend based on advertising spending, estimated to be:\n",
        "  Additional attendees= 2x round (adv. dollar)\n",
        "  Fixed costs to run theater 200 dollars\n",
        "  Write a program to generate a table for different adv amounts and profit.\n",
        "\n",
        "We need 9 values so you use a for loop t make the table; less for the loop\n",
        "We need to do range(0, a higher value so you do 201, step value is 25)\n"
      ],
      "metadata": {
        "id": "iXYcVsYhKwoD"
      }
    },
    {
      "cell_type": "code",
      "source": [
        "ticketprice= 10\n",
        "fixed_cost= 200\n",
        "standard_attendees= 20\n",
        "\n",
        "for ad in range(0,201,25): # the idea that profit stops at 200 and it goes up by 25 from 0 & t is the ad amount\n",
        "  profit = 10 * ( standard_attendees + 2* round(ad**0.5)) - fixed_cost - ad\n",
        "  print(ad,profit)"
      ],
      "metadata": {
        "colab": {
          "base_uri": "https://localhost:8080/"
        },
        "id": "wwjW7TsHKwbi",
        "outputId": "c58368a9-b9ef-46fe-9ba4-0b0b4adfabe3"
      },
      "execution_count": null,
      "outputs": [
        {
          "output_type": "stream",
          "name": "stdout",
          "text": [
            "0 0\n",
            "25 75\n",
            "50 90\n",
            "75 105\n",
            "100 100\n",
            "125 95\n",
            "150 90\n",
            "175 85\n",
            "200 80\n"
          ]
        }
      ]
    },
    {
      "cell_type": "code",
      "source": [
        "ticketprice= 10\n",
        "fixed_cost= 200\n",
        "standard_attendees= 20\n",
        "\n",
        "ad= 0 # initiation variable since its the first value\n",
        "while ad < 201: # you must show what ad is so you gotta do the initiation variable\n",
        "  profit = 10 * ( standard_attendees + 2* round(ad**0.5)) - fixed_cost - ad\n",
        "  ad= ad + 25 # needs to be defined more manually than the for loop\n",
        "  print(ad,profit)\n"
      ],
      "metadata": {
        "colab": {
          "base_uri": "https://localhost:8080/"
        },
        "id": "x4u9y147Rx75",
        "outputId": "723028c8-2af8-46dc-fa5f-874a0b58d072"
      },
      "execution_count": null,
      "outputs": [
        {
          "output_type": "stream",
          "name": "stdout",
          "text": [
            "25 0\n",
            "50 75\n",
            "75 90\n",
            "100 105\n",
            "125 100\n",
            "150 95\n",
            "175 90\n",
            "200 85\n",
            "225 80\n"
          ]
        }
      ]
    },
    {
      "cell_type": "code",
      "source": [
        "\n",
        "while cond:\n",
        "  expr\n",
        "  expr\n",
        "  if cond2\n",
        "    break\n",
        "  expr\n",
        "  expr"
      ],
      "metadata": {
        "id": "CZ-rNGWbT6Bn"
      },
      "execution_count": null,
      "outputs": []
    },
    {
      "cell_type": "code",
      "source": [
        "while cond:\n",
        "  expr\n",
        "  expr\n",
        "  if cond2\n",
        "    condtinue #doesnt terminate it just skips the value\n",
        "  expr\n",
        "  expr"
      ],
      "metadata": {
        "id": "EdB-1fH9WS2u"
      },
      "execution_count": null,
      "outputs": []
    },
    {
      "cell_type": "code",
      "source": [
        "j= 10\n",
        "\n",
        "for i in range(1_000_000_000):# if you want to large number you can use _ such as a comma when 1,000,000,000\n",
        "  if i == j:\n",
        "    break\n",
        "  print(i, end=' ')\n",
        "\n",
        "print ('Done.') # until the i=j is true then the break happens and it prints done"
      ],
      "metadata": {
        "colab": {
          "base_uri": "https://localhost:8080/"
        },
        "id": "_MvfYdq6Uf3O",
        "outputId": "2bfbf86e-9bc0-436b-dc25-1c227e160a95"
      },
      "execution_count": null,
      "outputs": [
        {
          "output_type": "stream",
          "name": "stdout",
          "text": [
            "0 1 2 3 4 5 6 7 8 9 Done.\n"
          ]
        }
      ]
    },
    {
      "cell_type": "code",
      "source": [
        "i= 10\n",
        "\n",
        "while i > 0:\n",
        "  i= i - 1\n",
        "  if i == 5:\n",
        "     continue\n",
        "  print(i, end=\" \") # 5 was skiped bc the continue pushed the control back to the while and went on"
      ],
      "metadata": {
        "colab": {
          "base_uri": "https://localhost:8080/"
        },
        "id": "jPlQ7w26VwT0",
        "outputId": "7ee4c9c4-4d36-415e-e44b-f8d65d349dea"
      },
      "execution_count": null,
      "outputs": [
        {
          "output_type": "stream",
          "name": "stdout",
          "text": [
            "9 8 7 6 4 3 2 1 0 "
          ]
        }
      ]
    },
    {
      "cell_type": "code",
      "source": [
        "# you are trying to make a list by entering numbers, and if it 0 it would stop\n",
        "L=[]\n",
        "item= int(input('enter a number')) #this needs to know it would be a number inputed\n",
        "\n",
        "while item!= 0: # compared the value with 0 then put it on the list to put another value again\n",
        "  L.append(item) # we need to append it so it can be in the list\n",
        "  item= int(input('enter a number'))  # when you input the 0 it would be false and never goes into while so it false and prints L\n",
        "  print(L)\n",
        "\n",
        "\n",
        "\n",
        "\n"
      ],
      "metadata": {
        "colab": {
          "base_uri": "https://localhost:8080/"
        },
        "id": "l5qx6xZvVy0M",
        "outputId": "a6fa250a-2a7d-41f3-b7c7-40c1f3d3e4eb"
      },
      "execution_count": null,
      "outputs": [
        {
          "output_type": "stream",
          "name": "stdout",
          "text": [
            "enter a number5\n",
            "enter a number5\n",
            "[5]\n",
            "enter a number5\n",
            "[5, 5]\n",
            "enter a number56\n",
            "[5, 5, 5]\n",
            "enter a number6\n",
            "[5, 5, 5, 56]\n",
            "enter a number7\n",
            "[5, 5, 5, 56, 6]\n",
            "enter a number0\n",
            "[5, 5, 5, 56, 6, 7]\n"
          ]
        }
      ]
    },
    {
      "cell_type": "code",
      "source": [
        "L=[ ]\n",
        "while True:\n",
        "  item= int(input('enter a number:'))\n",
        "\n",
        "  if item==0:\n",
        "    break\n",
        "    L.append(item)\n",
        "    print(L)"
      ],
      "metadata": {
        "colab": {
          "base_uri": "https://localhost:8080/"
        },
        "id": "fWnrZxMHbPyL",
        "outputId": "a9b8c06d-fcaf-4d1f-a8c7-04cef2c480da"
      },
      "execution_count": null,
      "outputs": [
        {
          "name": "stdout",
          "output_type": "stream",
          "text": [
            "enter a number:9\n",
            "enter a number:0\n"
          ]
        }
      ]
    },
    {
      "cell_type": "code",
      "source": [
        "months={} # this is an empty dictionary\n",
        "\n",
        "names= ['Jan','Feb','May','Apr','May','Jun','Jul','Aug','Sep','Oct','Nov','Dec'] # list with names\n",
        "numbers= [1,2,3,4,5,6,7,8,9,10,11,12] # list with numbers):\n",
        "\n",
        "for i in range(0,12): # you can also do range(len(numbers)):\n",
        "  months[numbers[i]]=names[i] #this is how you would be able to seperate the number and make the name a key equal to the number\n",
        "\n",
        "print(months)\n"
      ],
      "metadata": {
        "colab": {
          "base_uri": "https://localhost:8080/"
        },
        "id": "NH2UlfJtFhOj",
        "outputId": "1e5fb60a-f238-4870-cc65-0a9bc0a78053"
      },
      "execution_count": null,
      "outputs": [
        {
          "output_type": "stream",
          "name": "stdout",
          "text": [
            "{1: 'Jan', 2: 'Feb', 3: 'May', 4: 'Apr', 5: 'May', 6: 'Jun', 7: 'Jul', 8: 'Aug', 9: 'Sep', 10: 'Oct', 11: 'Nov', 12: 'Dec'}\n"
          ]
        }
      ]
    },
    {
      "cell_type": "markdown",
      "source": [
        "Results {1:'Jan',2:'Feb'....}\n",
        "you can you a for loop since its for each number and names; this a way to use a interation ;"
      ],
      "metadata": {
        "id": "yj8t9hbPGU3Z"
      }
    },
    {
      "cell_type": "markdown",
      "source": [
        "Assignment 1- Oct.10\n",
        "\n",
        "#you want to buy a house, you need to save for a few years before you can afford the down payment, determine how long it will take you to save enough money to make a downpayment\n",
        "- let the cost of the house be total_cost\n",
        "- let the portion of the cost needed for downpayment be portion_down_payment\n",
        "- portion_down_payment= 0.25%\n",
        "- amount saved= current_savings\n",
        "- assume you start with 0, and if u invest current savings such as current_savings*r/12 funds to your saving- 12 is an annual rate so assume return is 4%; r=.04\n"
      ],
      "metadata": {
        "id": "abX_RajjXTTj"
      }
    },
    {
      "cell_type": "code",
      "source": [
        "annual_salary= int(input('enter your salary'))\n",
        "portion_saved= float(input('enter your percentage saved'))\n",
        "total_costhouse= input('enter cost of the house')\n",
        "\n",
        "month = 0\n",
        "down_payment= 5000\n",
        "amount= 50\n",
        "\n",
        "while amount <= down_payment:\n",
        "  amount += down_payment* portion_saved\n",
        "  month += 1\n",
        "  print(month)\n"
      ],
      "metadata": {
        "id": "HZQ2cpuxGZ0E",
        "colab": {
          "base_uri": "https://localhost:8080/"
        },
        "outputId": "13658140-7e32-43d1-a0ab-f1ab50611ac7"
      },
      "execution_count": null,
      "outputs": [
        {
          "output_type": "stream",
          "name": "stdout",
          "text": [
            "enter your salary50000\n",
            "enter your percentage saved.25\n",
            "enter cost of the house100000\n",
            "1\n",
            "2\n",
            "3\n",
            "4\n"
          ]
        }
      ]
    },
    {
      "cell_type": "markdown",
      "source": [
        "Assignment 2- Oct.10\n",
        "Modify the previous program to include the following:\n",
        "\n",
        "- Have the user input a semi-annual salary raise semi_annual_raise (as a decimal\n",
        "percentage)\n",
        "\n",
        "- After the 6th month, increase your annual salary by that percentage. Do the same after the\n",
        "12th month, the 18th month, and so on.\n",
        "\n",
        " **Hint mod(%) operator**\n",
        "Printouts should be like:\n",
        "Enter your annual salary: 120000\n",
        "Enter the percent of your salary to save, as a decimal: . 05\n",
        "Enter the cost of your dream home: 500000\n",
        "Enter the semi-annual raise, as a decimal: .03\n",
        "Number of months: 142"
      ],
      "metadata": {
        "id": "KBvc-tIvZ_LR"
      }
    },
    {
      "cell_type": "code",
      "source": [
        "annual_salary = int(input('Enter your annual salary: '))\n",
        "portion_saved = float(input('Enter the percent to save: '))\n",
        "total_cost = int(input('Enter the cost of your home: '))\n",
        "semi_annual_raise = float(input('Enter the semi-annual raise: '))\n",
        "\n",
        "portion_down_payment = 0.25  # 25% of the total cost\n",
        "down_payment = total_cost * portion_down_payment\n",
        "current_savings = 0\n",
        "monthly_salary = annual_salary / 12\n",
        "month = 0\n",
        "\n",
        "while current_savings < down_payment:\n",
        "\n",
        "    current_savings += current_savings * 0.04 / 12  # monthly investment return of 4% annual\n",
        "    current_savings += monthly_salary * portion_saved\n",
        "\n",
        "    month += 1\n",
        "\n",
        "    if month % 6 == 0:\n",
        "        monthly_salary += monthly_salary * semi_annual_raise\n",
        "\n",
        "\n",
        "print(\"Number of months:\", month)"
      ],
      "metadata": {
        "id": "qAH5FpqnZ-_Q"
      },
      "execution_count": null,
      "outputs": []
    },
    {
      "cell_type": "markdown",
      "source": [
        "Assignemnt 3- Oct.10\n",
        "\n",
        "Write a function that checks whether a number is in a given range.\n",
        "\n",
        "must use a conditional operator\n",
        "to see if the ***--given number does belong to the given range----****\n",
        "You have to approach the solution to this assignment in two ways.\n",
        " In the _rst approach, your\n",
        "function will print out the result, whereas in the second, you have to use boolean return values.\n",
        "\n",
        "**Example:** name your function range_check and build it to get three arguments:\n",
        "a) the number in question\n",
        "b) the low end of the range\n",
        "c) the high end of the range."
      ],
      "metadata": {
        "id": "3pBxxVbuaBxH"
      }
    },
    {
      "cell_type": "code",
      "source": [
        "def inputs(): # this is due to not having requiring an input parameter since you are personally inputting it\n",
        "  annual_salary= int(input('enter your salary'))\n",
        "  portion_saved= float(input('enter your percentage saved'))\n",
        "  total_costhouse= input('enter cost of the house')\n",
        "\n",
        "  return annual_salary, portion_saved, total_costhouse # this does it return more than one outputs\n"
      ],
      "metadata": {
        "id": "GRr9owuLkrib"
      },
      "execution_count": null,
      "outputs": []
    },
    {
      "cell_type": "code",
      "source": [
        "salary, portion_saved, total_costhouse=input()\n",
        "\n",
        "month=0\n",
        "amount=0\n"
      ],
      "metadata": {
        "id": "QnHoU8eAlyoo"
      },
      "execution_count": null,
      "outputs": []
    },
    {
      "cell_type": "code",
      "source": [
        "number= input('enter a number')\n",
        "low_end= input('enter the low end')\n",
        "high_end= input('input the high end')\n",
        "\n",
        "def range_check(number, low_end, high_end):\n",
        "  if low_end <=number and number <= high_end:\n",
        "    return True\n",
        "  else:\n",
        "      return False"
      ],
      "metadata": {
        "colab": {
          "base_uri": "https://localhost:8080/"
        },
        "id": "y9f3ivqJZ-Sd",
        "outputId": "b55c87eb-3e01-47ac-db9f-902075c74f31"
      },
      "execution_count": null,
      "outputs": [
        {
          "name": "stdout",
          "output_type": "stream",
          "text": [
            "enter a number5\n",
            "enter the low end1\n",
            "input the high end6\n"
          ]
        }
      ]
    },
    {
      "cell_type": "code",
      "source": [
        "print(range_check(2,1,3))"
      ],
      "metadata": {
        "colab": {
          "base_uri": "https://localhost:8080/"
        },
        "id": "CDzt-U8_hLit",
        "outputId": "56618985-8382-4d7e-f760-71724ac0807b"
      },
      "execution_count": null,
      "outputs": [
        {
          "output_type": "stream",
          "name": "stdout",
          "text": [
            "True\n"
          ]
        }
      ]
    },
    {
      "cell_type": "markdown",
      "source": [
        "Parking Garage\n",
        "charges $5 plus $2.50 for each hour parked.\n",
        "write a program\n",
        "\n",
        "\n",
        "*   Prompt for the number of hours parked\n",
        "*   calc and dispaly the parking fee charged\n",
        "must define the function the parking fee given a number of hours\n",
        "def caclfee(hours)\n",
        "\n",
        "ex:\n",
        "enter hours parked :4\n",
        "parking fee: $15 which would be displayed\n",
        "\n"
      ],
      "metadata": {
        "id": "aJHQ88IPMecW"
      }
    },
    {
      "cell_type": "code",
      "source": [
        "\n",
        "def calcfee(hours):\n",
        "  fee= 5 + hours*2.5\n",
        "  return fee\n",
        "\n",
        "hours = int(input('enter # of hours: '))\n",
        "fee= calcfee(hours) # here is where it cals the function and go back to the def and does it thing to then then returns the fee which is return to where the function was called which is in the second paragraph\n",
        "print(fee)\n"
      ],
      "metadata": {
        "id": "n5O-wgsaknAD",
        "colab": {
          "base_uri": "https://localhost:8080/"
        },
        "outputId": "e0e0488e-7d08-4056-d258-4049d57389cd"
      },
      "execution_count": null,
      "outputs": [
        {
          "output_type": "stream",
          "name": "stdout",
          "text": [
            "enter # of hours: 5\n",
            "17.5\n"
          ]
        }
      ]
    },
    {
      "cell_type": "markdown",
      "source": [
        "\n",
        "Parking Garage charges  5 𝑝𝑙𝑢𝑠 2.50 for each hour parked. write a program\n",
        "\n",
        "Prompt for the number of hours parked\n",
        "\n",
        "*   defibe the call function displaying the displayfee(fee)\n",
        "*   refine the sign calcfee, to include a name paramter with decimal controlling the rounding on the calc fee\n",
        "* defcalcfee(hours, decimal=2)\n",
        "\n",
        "\n",
        "calc and dispaly the parking fee charged must define the function the parking fee given a number of hours def caclfee(hours)\n",
        "\n",
        "ex: enter hours parked :4 parking fee: $15 which would be displayed"
      ],
      "metadata": {
        "id": "_fS15tNKRssL"
      }
    },
    {
      "cell_type": "code",
      "source": [
        "def calcfee(hours,decimal=2):\n",
        "  fee= 5 + hours*2.5\n",
        "  fee=round(fee, decimal)\n",
        "  return fee\n",
        "\n",
        "def displayfee(fee):\n",
        "  print(fee)\n",
        "\n",
        "h = int(input('enter # of hours: '))\n",
        "fee=calcfee(h)\n",
        "displayfee(fee)\n"
      ],
      "metadata": {
        "colab": {
          "base_uri": "https://localhost:8080/"
        },
        "id": "SF_pFPNBSEPR",
        "outputId": "13b22292-a95c-4446-ac5a-c6e2f97506a2"
      },
      "execution_count": null,
      "outputs": [
        {
          "output_type": "stream",
          "name": "stdout",
          "text": [
            "enter # of hours: 6\n",
            "20.0\n"
          ]
        }
      ]
    },
    {
      "cell_type": "code",
      "source": [
        "def rev(S):\n",
        "  if len(S)==1:\n",
        "    return S\n",
        "  else:\n",
        "    return (rev(S[1:]) + S[0]) # slicing method removes the first one and then adds it again and then proceeds to continue the function\n",
        "\n",
        "print(rev('HELLO'))"
      ],
      "metadata": {
        "colab": {
          "base_uri": "https://localhost:8080/"
        },
        "id": "zVR9kQDoU0_B",
        "outputId": "147b0b0f-126b-4516-e81e-8cbabf70f98b"
      },
      "execution_count": null,
      "outputs": [
        {
          "output_type": "stream",
          "name": "stdout",
          "text": [
            "OLLEH\n"
          ]
        }
      ]
    },
    {
      "cell_type": "markdown",
      "source": [
        "Functiona that calculates the weighted average of a list L, given weights w. The function should handle the following exception error types:\n",
        "- ZeroDivisionError[link text]\n",
        "- TypeError( return empty list)\n",
        "- any other unkniwn error (return(float'nan')"
      ],
      "metadata": {
        "id": "t21rSOVcuMlt"
      }
    },
    {
      "cell_type": "code",
      "source": [
        "def wAvg(L,w):\n",
        "  res=[]\n",
        "  try:\n",
        "    for i in range(len(L)):\n",
        "      res.append(L[i]*w[i]) # this would multiply by each L0 and W0 and on and on\n",
        "    return sum(res)/sum(w)\n",
        "\n",
        "  except ZeroDivisionError:\n",
        "    print('Division by zero')\n",
        "    return []\n",
        "\n",
        "  except TypeError:\n",
        "    print('L and w are not compatibile, non-numerical objects found')\n",
        "    return []\n",
        "\n",
        "  except Exception as e:\n",
        "    print(f'Unknown error:{e}')\n",
        "    return (float('nan'))\n",
        "\n",
        "wAvg=([1,2,3],[])\n",
        "\n"
      ],
      "metadata": {
        "id": "YmiEoNV-Zo61"
      },
      "execution_count": null,
      "outputs": []
    },
    {
      "cell_type": "markdown",
      "source": [
        "Define a class named Student; they have two attributes\n",
        "- names (str)\n",
        "- number (str)\n",
        "create two objects out of this class\n",
        "objects include:\n",
        "name hames bond, number:007\n",
        "name: clark kent, number 333\n",
        "\n",
        "Now:\n",
        "add name: John Doe, number:111\n",
        "Courses:\n",
        "- BTE 320\n",
        "- BTE 401\n",
        "Should check if its in the list, and if it isnt then"
      ],
      "metadata": {
        "id": "lMa5xmb-CwHw"
      }
    },
    {
      "cell_type": "code",
      "source": [
        "class Student:\n",
        "  def __init__(self,name,number):\n",
        "    self.name= name\n",
        "    self.number= number\n",
        "    self.courses=[]\n",
        "\n",
        "  def enroll(self,course):\n",
        "    if course not in self.courses:\n",
        "      self.courses.append(course)\n",
        "    else:\n",
        "        print(f'you havent already enrolled in {courses}')\n",
        "\n",
        "  def set_course(self,course):\n",
        "     return self.course\n",
        "\n",
        "  def set_name(self,name):\n",
        "    self.name= nameName\n",
        "\n",
        "  def get_name(self):\n",
        "    return self.name\n",
        "\n",
        ""
      ],
      "metadata": {
        "id": "ajQqq3snC8uf"
      },
      "execution_count": 22,
      "outputs": []
    },
    {
      "cell_type": "code",
      "source": [
        "s1= Student(\"James Bond\", \"007\")\n",
        "s2= Student(\"Clark Kent\", \"333\")\n",
        "s3= Student(\"John Doe\",\"111\")\n",
        "\n",
        "s= Student('bob','123')\n"
      ],
      "metadata": {
        "id": "rbIqfbAODF7x"
      },
      "execution_count": 24,
      "outputs": []
    },
    {
      "cell_type": "code",
      "source": [
        "s.enroll('BTE320')"
      ],
      "metadata": {
        "id": "r0DDALZd9MaJ"
      },
      "execution_count": 25,
      "outputs": []
    },
    {
      "cell_type": "code",
      "source": [
        "s2.get_name()"
      ],
      "metadata": {
        "colab": {
          "base_uri": "https://localhost:8080/",
          "height": 35
        },
        "id": "2EMbuM0X5PAd",
        "outputId": "cd588287-ae8e-456f-9779-ef4581fca574"
      },
      "execution_count": 7,
      "outputs": [
        {
          "output_type": "execute_result",
          "data": {
            "text/plain": [
              "'Clark Kent'"
            ],
            "application/vnd.google.colaboratory.intrinsic+json": {
              "type": "string"
            }
          },
          "metadata": {},
          "execution_count": 7
        }
      ]
    },
    {
      "cell_type": "code",
      "source": [
        "s1.name"
      ],
      "metadata": {
        "colab": {
          "base_uri": "https://localhost:8080/",
          "height": 35
        },
        "id": "K1xc4bqeDNzK",
        "outputId": "f65f7cde-c12e-431e-8c22-b93c1c2ee26c"
      },
      "execution_count": null,
      "outputs": [
        {
          "output_type": "execute_result",
          "data": {
            "text/plain": [
              "'James Bond'"
            ],
            "application/vnd.google.colaboratory.intrinsic+json": {
              "type": "string"
            }
          },
          "metadata": {},
          "execution_count": 3
        }
      ]
    },
    {
      "cell_type": "code",
      "source": [
        "s2.name"
      ],
      "metadata": {
        "colab": {
          "base_uri": "https://localhost:8080/",
          "height": 35
        },
        "id": "1L0Wx7aTDPTA",
        "outputId": "86648ed7-c992-4590-c4f3-db7475dbef05"
      },
      "execution_count": null,
      "outputs": [
        {
          "output_type": "execute_result",
          "data": {
            "text/plain": [
              "'Clark Kent'"
            ],
            "application/vnd.google.colaboratory.intrinsic+json": {
              "type": "string"
            }
          },
          "metadata": {},
          "execution_count": 4
        }
      ]
    },
    {
      "cell_type": "code",
      "source": [],
      "metadata": {
        "colab": {
          "base_uri": "https://localhost:8080/",
          "height": 144
        },
        "id": "3QJ4VsN25HKX",
        "outputId": "234bbe1b-5a70-4443-d54d-3cb8b17a5116"
      },
      "execution_count": 2,
      "outputs": [
        {
          "output_type": "error",
          "ename": "NameError",
          "evalue": "name 's2' is not defined",
          "traceback": [
            "\u001b[0;31m---------------------------------------------------------------------------\u001b[0m",
            "\u001b[0;31mNameError\u001b[0m                                 Traceback (most recent call last)",
            "\u001b[0;32m<ipython-input-2-fda8b091bd08>\u001b[0m in \u001b[0;36m<cell line: 1>\u001b[0;34m()\u001b[0m\n\u001b[0;32m----> 1\u001b[0;31m \u001b[0ms2\u001b[0m\u001b[0;34m.\u001b[0m\u001b[0mget_name\u001b[0m\u001b[0;34m(\u001b[0m\u001b[0;34m)\u001b[0m\u001b[0;34m\u001b[0m\u001b[0;34m\u001b[0m\u001b[0m\n\u001b[0m",
            "\u001b[0;31mNameError\u001b[0m: name 's2' is not defined"
          ]
        }
      ]
    }
  ]
}
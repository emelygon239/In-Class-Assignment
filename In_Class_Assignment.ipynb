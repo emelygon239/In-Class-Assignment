{
  "nbformat": 4,
  "nbformat_minor": 0,
  "metadata": {
    "colab": {
      "provenance": [],
      "authorship_tag": "ABX9TyP1aRCsEvo9Lt6jUznPfIjH",
      "include_colab_link": true
    },
    "kernelspec": {
      "name": "python3",
      "display_name": "Python 3"
    },
    "language_info": {
      "name": "python"
    }
  },
  "cells": [
    {
      "cell_type": "markdown",
      "metadata": {
        "id": "view-in-github",
        "colab_type": "text"
      },
      "source": [
        "<a href=\"https://colab.research.google.com/github/emelygon239/In-Class-Assignment/blob/main/In_Class_Assignment.ipynb\" target=\"_parent\"><img src=\"https://colab.research.google.com/assets/colab-badge.svg\" alt=\"Open In Colab\"/></a>"
      ]
    },
    {
      "cell_type": "code",
      "execution_count": null,
      "metadata": {
        "colab": {
          "base_uri": "https://localhost:8080/"
        },
        "id": "QIVxcmUYydx6",
        "outputId": "00ac0014-bd9c-410c-bd72-37eab251e914"
      },
      "outputs": [
        {
          "output_type": "stream",
          "name": "stdout",
          "text": [
            "244.92000000000002\n"
          ]
        }
      ],
      "source": [
        "r=3\n",
        "pi=3.14\n",
        "h=10\n",
        "surfacearea= 2*pi*r**2+2*pi*r*h\n",
        "print(surfacearea)"
      ]
    },
    {
      "cell_type": "markdown",
      "source": [
        "the variable name has to be singular so it would not have an error"
      ],
      "metadata": {
        "id": "QuT6WE1Czpdf"
      }
    },
    {
      "cell_type": "markdown",
      "source": [
        "inputs such as two player 1 and player 2\n",
        "\n",
        "rock wins scissors\n",
        "scissors wins paper\n",
        "paper wins rocks"
      ],
      "metadata": {
        "id": "9qgj2pnPIJMC"
      }
    },
    {
      "cell_type": "code",
      "source": [
        "# Input\n",
        "\n",
        "p1= input('Choose rock, scissors, paper')\n",
        "p2= input('Choose rock, scissors, paper')\n",
        "\n",
        "\n",
        "#Processing must use and or\n",
        "\n",
        "if p1==p2:\n",
        "  print('No wins')\n",
        "\n",
        "elif (p1==\"rock\" and p2==\"scissors\") or (p1==\"scissors\" and p2==\"paper\") or (p1==\"paper\" and p2==\"rock\"):\n",
        "  print('p1 wins')\n",
        "\n",
        "else:\n",
        "  print(\"p2 wins\")\n",
        "\n",
        "\n",
        "\n",
        "\n",
        "\n",
        "\n",
        "\n",
        "\n",
        "\n"
      ],
      "metadata": {
        "colab": {
          "base_uri": "https://localhost:8080/"
        },
        "id": "l1cFX_yUIHCR",
        "outputId": "1f73697e-b7db-40fb-abe1-35fa2d2a5485"
      },
      "execution_count": null,
      "outputs": [
        {
          "output_type": "stream",
          "name": "stdout",
          "text": [
            "Choose rock, scissors, paperrock\n",
            "Choose rock, scissors, paperpaper\n",
            "p2 wins\n"
          ]
        }
      ]
    },
    {
      "cell_type": "code",
      "source": [
        "n1=float(input('enter number'))\n",
        "n2=float(input('enter number'))\n",
        "symbol= input('choose symbol(+,-,/,**)')\n",
        "\n",
        "if symbol=='+':\n",
        "  print(n1+n2)\n",
        "\n",
        "elif (symbol=='-'):\n",
        "  print(n1-n2)\n",
        "\n",
        "elif (symbol=='/'):\n",
        "  print(n1/n2)\n",
        "\n",
        "elif (symbol=='*'):\n",
        "  print(n1*n2)\n",
        "\n",
        "elif (symbol=='**'):\n",
        "  print(n1**n2)\n"
      ],
      "metadata": {
        "id": "sYaJgRvJCLO5",
        "colab": {
          "base_uri": "https://localhost:8080/"
        },
        "outputId": "08f2bd41-7a99-42cd-c960-eee6864beaa6"
      },
      "execution_count": null,
      "outputs": [
        {
          "output_type": "stream",
          "name": "stdout",
          "text": [
            "enter number5\n",
            "enter number5\n",
            "choose symbol(+,-,/,**)+\n",
            "10.0\n"
          ]
        }
      ]
    },
    {
      "cell_type": "code",
      "source": [
        "c= input('Do you want to play a game?')\n",
        "\n",
        "while c=='yes':\n",
        "  p1= input('choose r, p, s')\n",
        "  p2 = input('choose r, p, s')\n",
        "if p1 == p2:\n",
        "  print ('Draw')\n",
        "\n",
        "elif (p1 == 'r'and p2 == 's') or (p1== 's' and p2 == 'p') or (p1 == 'p' and p2 == 'r'):\n",
        "  print( 'p1 wins')\n",
        "\n",
        "else:\n",
        "  print ('p2 wins')\n",
        "\n"
      ],
      "metadata": {
        "colab": {
          "base_uri": "https://localhost:8080/"
        },
        "id": "TdHjF5lzHp6G",
        "outputId": "d8ebfb80-eebc-410c-ea16-397a1a6ad405"
      },
      "execution_count": null,
      "outputs": [
        {
          "name": "stdout",
          "output_type": "stream",
          "text": [
            "Do you want to play a game?yes\n",
            "choose r, p, sr\n",
            "choose r, p, ss\n",
            "choose r, p, sno\n"
          ]
        }
      ]
    },
    {
      "cell_type": "code",
      "source": [
        "flat_rate = 5\n",
        "for t in range (1,9):\n",
        "  charge = flat_rate + 2.5 * t\n",
        "  if charge < 10:\n",
        "    charge = 10\n",
        "  elif charge > 20:\n",
        "    charge = 20\n",
        "  print(t, charge)"
      ],
      "metadata": {
        "colab": {
          "base_uri": "https://localhost:8080/"
        },
        "id": "zW9nwW68I-YG",
        "outputId": "6f423d94-df89-4b84-ae28-630cc43a71a7"
      },
      "execution_count": null,
      "outputs": [
        {
          "output_type": "stream",
          "name": "stdout",
          "text": [
            "1 10\n",
            "2 10.0\n",
            "3 12.5\n",
            "4 15.0\n",
            "5 17.5\n",
            "6 20.0\n",
            "7 20\n",
            "8 20\n"
          ]
        }
      ]
    },
    {
      "cell_type": "markdown",
      "source": [
        "A parking garage charges 5plus2.50 for each hour parked. The minimum fee is 10andthemaximum feeis20.\n",
        "Write a program that generates a table with hours parked and the corresponding fee."
      ],
      "metadata": {
        "id": "6uzeOuQRJczs"
      }
    },
    {
      "cell_type": "markdown",
      "source": [
        "Movie theater manager is decidiing how much to spend on advertising for an upcoming movie. Each ticket is 10 dollars. Without advertising, 20 people are forecasted to attend. Additional people attend based on advertising spending, estimated to be:\n",
        "  Additional attendees= 2x round (adv. dollar)\n",
        "  Fixed costs to run theater 200 dollars\n",
        "  Write a program to generate a table for different adv amounts and profit.\n",
        "\n",
        "We need 9 values so you use a for loop t make the table; less for the loop\n",
        "We need to do range(0, a higher value so you do 201, step value is 25)\n"
      ],
      "metadata": {
        "id": "iXYcVsYhKwoD"
      }
    },
    {
      "cell_type": "code",
      "source": [
        "ticketprice= 10\n",
        "fixed_cost= 200\n",
        "standard_attendees= 20\n",
        "\n",
        "for ad in range(0,201,25): # the idea that profit stops at 200 and it goes up by 25 from 0 & t is the ad amount\n",
        "  profit = 10 * ( standard_attendees + 2* round(ad**0.5)) - fixed_cost - ad\n",
        "  print(ad,profit)"
      ],
      "metadata": {
        "colab": {
          "base_uri": "https://localhost:8080/"
        },
        "id": "wwjW7TsHKwbi",
        "outputId": "c58368a9-b9ef-46fe-9ba4-0b0b4adfabe3"
      },
      "execution_count": null,
      "outputs": [
        {
          "output_type": "stream",
          "name": "stdout",
          "text": [
            "0 0\n",
            "25 75\n",
            "50 90\n",
            "75 105\n",
            "100 100\n",
            "125 95\n",
            "150 90\n",
            "175 85\n",
            "200 80\n"
          ]
        }
      ]
    },
    {
      "cell_type": "code",
      "source": [
        "ticketprice= 10\n",
        "fixed_cost= 200\n",
        "standard_attendees= 20\n",
        "\n",
        "ad= 0 # initiation variable since its the first value\n",
        "while ad < 201: # you must show what ad is so you gotta do the initiation variable\n",
        "  profit = 10 * ( standard_attendees + 2* round(ad**0.5)) - fixed_cost - ad\n",
        "  ad= ad + 25 # needs to be defined more manually than the for loop\n",
        "  print(ad,profit)\n"
      ],
      "metadata": {
        "colab": {
          "base_uri": "https://localhost:8080/"
        },
        "id": "x4u9y147Rx75",
        "outputId": "723028c8-2af8-46dc-fa5f-874a0b58d072"
      },
      "execution_count": null,
      "outputs": [
        {
          "output_type": "stream",
          "name": "stdout",
          "text": [
            "25 0\n",
            "50 75\n",
            "75 90\n",
            "100 105\n",
            "125 100\n",
            "150 95\n",
            "175 90\n",
            "200 85\n",
            "225 80\n"
          ]
        }
      ]
    },
    {
      "cell_type": "code",
      "source": [
        "\n",
        "while cond:\n",
        "  expr\n",
        "  expr\n",
        "  if cond2\n",
        "    break\n",
        "  expr\n",
        "  expr"
      ],
      "metadata": {
        "id": "CZ-rNGWbT6Bn"
      },
      "execution_count": null,
      "outputs": []
    },
    {
      "cell_type": "code",
      "source": [
        "while cond:\n",
        "  expr\n",
        "  expr\n",
        "  if cond2\n",
        "    condtinue #doesnt terminate it just skips the value\n",
        "  expr\n",
        "  expr"
      ],
      "metadata": {
        "id": "EdB-1fH9WS2u"
      },
      "execution_count": null,
      "outputs": []
    },
    {
      "cell_type": "code",
      "source": [
        "j= 10\n",
        "\n",
        "for i in range(1_000_000_000):# if you want to large number you can use _ such as a comma when 1,000,000,000\n",
        "  if i == j:\n",
        "    break\n",
        "  print(i, end=' ')\n",
        "\n",
        "print ('Done.') # until the i=j is true then the break happens and it prints done"
      ],
      "metadata": {
        "colab": {
          "base_uri": "https://localhost:8080/"
        },
        "id": "_MvfYdq6Uf3O",
        "outputId": "2bfbf86e-9bc0-436b-dc25-1c227e160a95"
      },
      "execution_count": null,
      "outputs": [
        {
          "output_type": "stream",
          "name": "stdout",
          "text": [
            "0 1 2 3 4 5 6 7 8 9 Done.\n"
          ]
        }
      ]
    },
    {
      "cell_type": "code",
      "source": [
        "i= 10\n",
        "\n",
        "while i > 0:\n",
        "  i= i - 1\n",
        "  if i == 5:\n",
        "     continue\n",
        "  print(i, end=\" \") # 5 was skiped bc the continue pushed the control back to the while and went on"
      ],
      "metadata": {
        "colab": {
          "base_uri": "https://localhost:8080/"
        },
        "id": "jPlQ7w26VwT0",
        "outputId": "7ee4c9c4-4d36-415e-e44b-f8d65d349dea"
      },
      "execution_count": null,
      "outputs": [
        {
          "output_type": "stream",
          "name": "stdout",
          "text": [
            "9 8 7 6 4 3 2 1 0 "
          ]
        }
      ]
    },
    {
      "cell_type": "code",
      "source": [
        "# you are trying to make a list by entering numbers, and if it 0 it would stop\n",
        "L=[]\n",
        "item= int(input('enter a number')) #this needs to know it would be a number inputed\n",
        "\n",
        "while item!= 0: # compared the value with 0 then put it on the list to put another value again\n",
        "  L.append(item) # we need to append it so it can be in the list\n",
        "  item= int(input('enter a number'))  # when you input the 0 it would be false and never goes into while so it false and prints L\n",
        "  print(L)\n",
        "\n",
        "\n",
        "\n",
        "\n"
      ],
      "metadata": {
        "colab": {
          "base_uri": "https://localhost:8080/"
        },
        "id": "l5qx6xZvVy0M",
        "outputId": "a6fa250a-2a7d-41f3-b7c7-40c1f3d3e4eb"
      },
      "execution_count": null,
      "outputs": [
        {
          "output_type": "stream",
          "name": "stdout",
          "text": [
            "enter a number5\n",
            "enter a number5\n",
            "[5]\n",
            "enter a number5\n",
            "[5, 5]\n",
            "enter a number56\n",
            "[5, 5, 5]\n",
            "enter a number6\n",
            "[5, 5, 5, 56]\n",
            "enter a number7\n",
            "[5, 5, 5, 56, 6]\n",
            "enter a number0\n",
            "[5, 5, 5, 56, 6, 7]\n"
          ]
        }
      ]
    },
    {
      "cell_type": "code",
      "source": [
        "L=[ ]\n",
        "while True:\n",
        "  item= int(input('enter a number:'))\n",
        "\n",
        "  if item==0:\n",
        "    break\n",
        "    L.append(item)\n",
        "    print(L)"
      ],
      "metadata": {
        "colab": {
          "base_uri": "https://localhost:8080/"
        },
        "id": "fWnrZxMHbPyL",
        "outputId": "a9b8c06d-fcaf-4d1f-a8c7-04cef2c480da"
      },
      "execution_count": null,
      "outputs": [
        {
          "name": "stdout",
          "output_type": "stream",
          "text": [
            "enter a number:9\n",
            "enter a number:0\n"
          ]
        }
      ]
    },
    {
      "cell_type": "code",
      "source": [
        "months={} # this is an empty dictionary\n",
        "\n",
        "names= ['Jan','Feb','May','Apr','May','Jun','Jul','Aug','Sep','Oct','Nov','Dec'] # list with names\n",
        "numbers= [1,2,3,4,5,6,7,8,9,10,11,12] # list with numbers):\n",
        "\n",
        "for i in range(0,12): # you can also do range(len(numbers)):\n",
        "  months[numbers[i]]=names[i] #this is how you would be able to seperate the number and make the name a key equal to the number\n",
        "\n",
        "print(months)\n"
      ],
      "metadata": {
        "colab": {
          "base_uri": "https://localhost:8080/"
        },
        "id": "NH2UlfJtFhOj",
        "outputId": "1e5fb60a-f238-4870-cc65-0a9bc0a78053"
      },
      "execution_count": 7,
      "outputs": [
        {
          "output_type": "stream",
          "name": "stdout",
          "text": [
            "{1: 'Jan', 2: 'Feb', 3: 'May', 4: 'Apr', 5: 'May', 6: 'Jun', 7: 'Jul', 8: 'Aug', 9: 'Sep', 10: 'Oct', 11: 'Nov', 12: 'Dec'}\n"
          ]
        }
      ]
    },
    {
      "cell_type": "markdown",
      "source": [
        "Results {1:'Jan',2:'Feb'....}\n",
        "you can you a for loop since its for each number and names; this a way to use a interation ;"
      ],
      "metadata": {
        "id": "yj8t9hbPGU3Z"
      }
    },
    {
      "cell_type": "code",
      "source": [],
      "metadata": {
        "id": "HZQ2cpuxGZ0E"
      },
      "execution_count": null,
      "outputs": []
    }
  ]
}
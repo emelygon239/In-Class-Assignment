{
  "nbformat": 4,
  "nbformat_minor": 0,
  "metadata": {
    "colab": {
      "provenance": [],
      "authorship_tag": "ABX9TyOytN1fuaQXtVepJ+WL0vvi",
      "include_colab_link": true
    },
    "kernelspec": {
      "name": "python3",
      "display_name": "Python 3"
    },
    "language_info": {
      "name": "python"
    }
  },
  "cells": [
    {
      "cell_type": "markdown",
      "metadata": {
        "id": "view-in-github",
        "colab_type": "text"
      },
      "source": [
        "<a href=\"https://colab.research.google.com/github/emelygon239/In-Class-Assignment/blob/main/In_Class_Assignment.ipynb\" target=\"_parent\"><img src=\"https://colab.research.google.com/assets/colab-badge.svg\" alt=\"Open In Colab\"/></a>"
      ]
    },
    {
      "cell_type": "code",
      "execution_count": null,
      "metadata": {
        "colab": {
          "base_uri": "https://localhost:8080/"
        },
        "id": "QIVxcmUYydx6",
        "outputId": "00ac0014-bd9c-410c-bd72-37eab251e914"
      },
      "outputs": [
        {
          "output_type": "stream",
          "name": "stdout",
          "text": [
            "244.92000000000002\n"
          ]
        }
      ],
      "source": [
        "r=3\n",
        "pi=3.14\n",
        "h=10\n",
        "surfacearea= 2*pi*r**2+2*pi*r*h\n",
        "print(surfacearea)"
      ]
    },
    {
      "cell_type": "markdown",
      "source": [
        "the variable name has to be singular so it would not have an error"
      ],
      "metadata": {
        "id": "QuT6WE1Czpdf"
      }
    },
    {
      "cell_type": "markdown",
      "source": [
        "inputs such as two player 1 and player 2\n",
        "\n",
        "rock wins scissors\n",
        "scissors wins paper\n",
        "paper wins rocks"
      ],
      "metadata": {
        "id": "9qgj2pnPIJMC"
      }
    },
    {
      "cell_type": "code",
      "source": [
        "# Input\n",
        "\n",
        "p1= input('Choose rock, scissors, paper')\n",
        "p2= input('Choose rock, scissors, paper')\n",
        "\n",
        "\n",
        "#Processing must use and or\n",
        "\n",
        "if p1==p2:\n",
        "  print('No wins')\n",
        "\n",
        "elif (p1==\"rock\" and p2==\"scissors\") or (p1==\"scissors\" and p2==\"paper\") or (p1==\"paper\" and p2==\"rock\"):\n",
        "  print('p1 wins')\n",
        "\n",
        "else:\n",
        "  print(\"p2 wins\")\n",
        "\n",
        "\n",
        "\n",
        "\n",
        "\n",
        "\n",
        "\n",
        "\n",
        "\n"
      ],
      "metadata": {
        "colab": {
          "base_uri": "https://localhost:8080/"
        },
        "id": "l1cFX_yUIHCR",
        "outputId": "1f73697e-b7db-40fb-abe1-35fa2d2a5485"
      },
      "execution_count": 5,
      "outputs": [
        {
          "output_type": "stream",
          "name": "stdout",
          "text": [
            "Choose rock, scissors, paperrock\n",
            "Choose rock, scissors, paperpaper\n",
            "p2 wins\n"
          ]
        }
      ]
    }
  ]
}